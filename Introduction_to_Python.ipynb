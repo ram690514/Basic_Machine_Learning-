{
  "nbformat": 4,
  "nbformat_minor": 0,
  "metadata": {
    "colab": {
      "provenance": [],
      "include_colab_link": true
    },
    "kernelspec": {
      "name": "python3",
      "display_name": "Python 3"
    },
    "language_info": {
      "name": "python"
    }
  },
  "cells": [
    {
      "cell_type": "markdown",
      "metadata": {
        "id": "view-in-github",
        "colab_type": "text"
      },
      "source": [
        "<a href=\"https://colab.research.google.com/github/ram690514/Basic_Machine_Learning-/blob/main/Introduction_to_Python.ipynb\" target=\"_parent\"><img src=\"https://colab.research.google.com/assets/colab-badge.svg\" alt=\"Open In Colab\"/></a>"
      ]
    },
    {
      "cell_type": "markdown",
      "source": [
        ">**Session Outcomes**\n",
        "\n",
        "Upon successful completion of this session the participants will be able to:\n",
        "\n",
        "1. understand the advantages of learning `python` for Statistical analysis\n",
        "2. use `Python` as a  flexible high level programming language"
      ],
      "metadata": {
        "id": "RvE3xLRRau9B"
      }
    },
    {
      "cell_type": "markdown",
      "source": [
        "## Why `python` is a right choice for Computational Statistics ?\n",
        "\n",
        "Python is a popular programming language in scientific computing, because it has many data-oriented feature packages that can speed up and simplify data processing, thus saving time."
      ],
      "metadata": {
        "id": "_MCFieE_adMy"
      }
    },
    {
      "cell_type": "markdown",
      "source": [
        "## What is Python?\n",
        "\n",
        "- `Python` is an *object-oriented*, high-level programming language.\n",
        "\n",
        "- Its built-in data structures and properties, combined with dynamic typing (meaning we don’t have to declare the type of variable like in C or Java) and binding, make it ideal for application development and its use as a scripting language.\n",
        "\n",
        "- Python’s simple syntax emphasizes readability and reduces programming maintenance.\n",
        "\n",
        "- Python is a programming language that can be used for a wide range of tasks such as software creation, web development, script writing, unlike HTML, CSS, and JavaScript.\n",
        "\n",
        "## What is data analysis?\n",
        "Data analysis is the process of gathering raw data and converting it into information that the users can use to make decisions.\n",
        "\n",
        "It entails inspecting, cleansing, transforming, and modeling data to uncover valuable information, draw conclusions, and aid decision-making.\n",
        "\n",
        "In today’s business world, data analysis plays an important role in making scientific decisions and assisting businesses in operating more efficiently.\n",
        "\n",
        "**Data mining**  is a form of a data analysis technique that emphasizes statistical modeling and information exploration for predictive rather than strictly descriptive purposes.\n",
        "\n",
        "**Business intelligence** encompasses data analysis that is heavily reliant on aggregation, focusing primarily on business information and decision-making to boost profit turnover.\n",
        "\n"
      ],
      "metadata": {
        "id": "NrkswBkXbDRT"
      }
    },
    {
      "cell_type": "markdown",
      "source": [
        "## Who is a data analyst?\n",
        "Data analysts are in charge of interpreting data, analyzing the results using statistical techniques, and producing regular reports.\n",
        "\n",
        "- They plan and carry out data assessments, data collection processes, and other statistical reliability and quality-improvement techniques.\n",
        "\n",
        "- They are also in charge of data processing and database management from primary and secondary sources.\n",
        "\n"
      ],
      "metadata": {
        "id": "oWcH4c1Qbycr"
      }
    },
    {
      "cell_type": "markdown",
      "source": [
        "## What makes Python a brilliant choice for data analysis?\n",
        "\n",
        "- Easy to learn\n",
        "\n",
        "- Flexibility\n",
        "\n",
        "- Huge libraries collection\n",
        "\n",
        "- Graphics and visualization\n",
        "- Built-in data analytics tools\n"
      ],
      "metadata": {
        "id": "WVNAbHTWb340"
      }
    },
    {
      "cell_type": "markdown",
      "source": [
        "#... So let's jump into  `PyWorks 1.0`...\n",
        "\n",
        "\n",
        "We will be using `Python` a fair amount in this class. `Python` is a high-level scripting language that offers an interactive programming environment. We assume programming experience, so this workshop will focus on the unique properties of `Python`.\n",
        "\n",
        "Programming languages generally have the following common ingredients: \n",
        "\n",
        ">*variables, operators, iterators, conditional statements, functions (built-in and user defined) and higher-order data structures*.\n",
        "\n",
        " We will look at these in Python and highlight qualities unique to this language."
      ],
      "metadata": {
        "id": "tO2K3Bk2eouN"
      }
    },
    {
      "cell_type": "markdown",
      "source": [
        "## Basic structure of any program\n",
        "\n",
        "- Input\n",
        "\n",
        "- Process/ job\n",
        "\n",
        "- Output"
      ],
      "metadata": {
        "id": "VuRdsjXySPId"
      }
    },
    {
      "cell_type": "markdown",
      "source": [
        "## Simplest program ever!\n",
        "\n",
        "Just say a Hello!!\n",
        "\n",
        "Here we need only to display a Hello world message in the console output (monitor)\n",
        "\n",
        "The `Python` code for this job is:\n",
        "\n",
        "```\n",
        "print(\"Hello world\")\n",
        "```"
      ],
      "metadata": {
        "id": "_W4hu0xTSrfS"
      }
    },
    {
      "cell_type": "markdown",
      "source": [],
      "metadata": {
        "id": "-CUfCQgdhMbh"
      }
    },
    {
      "cell_type": "markdown",
      "source": [],
      "metadata": {
        "id": "SujNQgG7hL6h"
      }
    },
    {
      "cell_type": "code",
      "source": [
        "print(\"Hello world\")"
      ],
      "metadata": {
        "id": "Fcd1L_iYTEDy",
        "outputId": "dc300470-6ef2-4f13-ed25-11b9c4635541",
        "colab": {
          "base_uri": "https://localhost:8080/"
        }
      },
      "execution_count": 1,
      "outputs": [
        {
          "output_type": "stream",
          "name": "stdout",
          "text": [
            "Hello world\n"
          ]
        }
      ]
    },
    {
      "cell_type": "markdown",
      "source": [
        ">*Note:* To facilitate the computational process, input should be temporarly store in containers called variables."
      ],
      "metadata": {
        "id": "7Ny4h2ZaSbvE"
      }
    },
    {
      "cell_type": "markdown",
      "source": [
        "## Variables\n",
        "Variables in `Python` are defined and assigned for you when you set a value to them.\n",
        "\n",
        ">Example:\n",
        "\n",
        "```\n",
        "# assign 2 to the variable 'py_variable'\n",
        "py_variable= 2 \n",
        "print(\"Value storedis\",py_variable) # displays the value stored in 'py_variable'\n",
        "type(py_variable)  # return the data type of 'py_variable'\n",
        "```\n",
        "\n",
        "Just copy and paste this `python` code chunk in a code cell and run to get the output."
      ],
      "metadata": {
        "id": "NY7PmB22fHKN"
      }
    },
    {
      "cell_type": "code",
      "source": [
        "# assign 2 to the variable 'py_variable'\n",
        "py_variable= 2 \n",
        "print(\"Value stored is\",py_variable) # displays the value stored in 'py_variable'\n",
        "print(\"Type of the variable is :\",type(py_variable))  # return the data type of 'py_variable'"
      ],
      "metadata": {
        "colab": {
          "base_uri": "https://localhost:8080/"
        },
        "id": "_39fEHEMgBi1",
        "outputId": "8781a00a-3336-4da2-f6f8-709cbc15e135"
      },
      "execution_count": null,
      "outputs": [
        {
          "output_type": "stream",
          "name": "stdout",
          "text": [
            "Value stored is 2\n",
            "Type of the variable is : <class 'int'>\n"
          ]
        }
      ]
    },
    {
      "cell_type": "code",
      "source": [
        "# example 2\n",
        "a=10\n",
        "inst='ICET, MVPA'\n",
        "print(a,inst,sep=':-')"
      ],
      "metadata": {
        "colab": {
          "base_uri": "https://localhost:8080/"
        },
        "id": "c-KVK25diXRt",
        "outputId": "cd2ba03b-16b0-4c04-f43c-7288ca12c284"
      },
      "execution_count": null,
      "outputs": [
        {
          "output_type": "stream",
          "name": "stdout",
          "text": [
            "10:-ICET, MVPA\n"
          ]
        }
      ]
    },
    {
      "cell_type": "markdown",
      "source": [
        "**Note:**There are some restrictions in naming a variable.\n",
        "\n",
        "variable name should start with a character\n",
        "\n",
        "@ & /  # % ^* ! etc can’t be used in name\n",
        "\n",
        "White space cannot be used in variable name\n",
        "\n",
        "We can’t use keywords or reserved words as variable name. The key words in Python are.\n",
        "\n",
        "------------------------------------\n",
        "\n",
        "`and, del ,from ,not, while,\n",
        "as, elif, global ,or ,with\n",
        "assert, else, if, pass, yield,\n",
        "break ,except, import, print,\n",
        "class, exec, in, raise,\n",
        "continue, finally, is ,return,\n",
        "def, for, lambda, try`\n",
        "\n",
        "---------------------------------"
      ],
      "metadata": {
        "id": "Yn5mBgCViabt"
      }
    },
    {
      "cell_type": "markdown",
      "source": [
        "This makes variable definition easy for the programmer. As usual, though, great power comes with great responsibility. For example:\n",
        "\n"
      ],
      "metadata": {
        "id": "m3aCuWuognCV"
      }
    },
    {
      "cell_type": "code",
      "source": [
        "py_varible = py_variable+100\n",
        "print(\"Value is :\",py_variable)\n",
        "     "
      ],
      "metadata": {
        "colab": {
          "base_uri": "https://localhost:8080/"
        },
        "id": "0G8V7nzUekMB",
        "outputId": "ac10f87f-ab83-48b4-94e1-aff59e033c8e"
      },
      "execution_count": null,
      "outputs": [
        {
          "output_type": "stream",
          "name": "stdout",
          "text": [
            "Value is : 2\n"
          ]
        }
      ]
    },
    {
      "cell_type": "markdown",
      "source": [
        ">* Wrtie a simple programe to find sum of two numbers"
      ],
      "metadata": {
        "id": "7nzZXbWLgtUI"
      }
    },
    {
      "cell_type": "code",
      "source": [
        "\"\"\"\n",
        "programe to find sum of two numbers\n",
        "\"\"\"\n",
        "a=5; b=9\n",
        "s=a+b\n",
        "print(\"sum is:\",s)\n"
      ],
      "metadata": {
        "colab": {
          "base_uri": "https://localhost:8080/"
        },
        "id": "UhDkCVB2g1bl",
        "outputId": "a838bf19-1d79-4015-8b5c-72dc5ad03b23"
      },
      "execution_count": null,
      "outputs": [
        {
          "output_type": "stream",
          "name": "stdout",
          "text": [
            "sum is: 14\n"
          ]
        }
      ]
    },
    {
      "cell_type": "markdown",
      "source": [
        "> **Note:** If you accidentally mistype a variable name, `Python` will not catch it for you. This can lead to bugs that can be hard to track - so beware.\n",
        "\n",
        "## Types and Typecasting\n",
        "The usual typecasting is available in `Python`, so it is easy to convert `strings` to `ints` or floats, `floats` to `ints`, etc. The syntax is slightly different than C:"
      ],
      "metadata": {
        "id": "isKdhEjzg4AG"
      }
    },
    {
      "cell_type": "code",
      "source": [
        "a = \"1\"\n",
        "b = 5 \n",
        "print(a+b)"
      ],
      "metadata": {
        "colab": {
          "base_uri": "https://localhost:8080/",
          "height": 200
        },
        "id": "G05Z_RE_hLZg",
        "outputId": "c90d6a28-dcda-4979-b03e-1cadd8c78f97"
      },
      "execution_count": null,
      "outputs": [
        {
          "output_type": "error",
          "ename": "TypeError",
          "evalue": "ignored",
          "traceback": [
            "\u001b[0;31m---------------------------------------------------------------------------\u001b[0m",
            "\u001b[0;31mTypeError\u001b[0m                                 Traceback (most recent call last)",
            "\u001b[0;32m<ipython-input-3-aaf9e4395aa2>\u001b[0m in \u001b[0;36m<module>\u001b[0;34m\u001b[0m\n\u001b[1;32m      1\u001b[0m \u001b[0ma\u001b[0m \u001b[0;34m=\u001b[0m \u001b[0;34m\"1\"\u001b[0m\u001b[0;34m\u001b[0m\u001b[0;34m\u001b[0m\u001b[0m\n\u001b[1;32m      2\u001b[0m \u001b[0mb\u001b[0m \u001b[0;34m=\u001b[0m \u001b[0;36m5\u001b[0m\u001b[0;34m\u001b[0m\u001b[0;34m\u001b[0m\u001b[0m\n\u001b[0;32m----> 3\u001b[0;31m \u001b[0mprint\u001b[0m\u001b[0;34m(\u001b[0m\u001b[0ma\u001b[0m\u001b[0;34m+\u001b[0m\u001b[0mb\u001b[0m\u001b[0;34m)\u001b[0m\u001b[0;34m\u001b[0m\u001b[0;34m\u001b[0m\u001b[0m\n\u001b[0m",
            "\u001b[0;31mTypeError\u001b[0m: can only concatenate str (not \"int\") to str"
          ]
        }
      ]
    },
    {
      "cell_type": "markdown",
      "source": [
        "This error can by corrected using `type casting` as shown below:\n",
        "\n",
        ">Note that the typing is dynamic. I.e. a variable that was initally say an integer can become another type (float, string, etc.) via reassignment.\n",
        "\n"
      ],
      "metadata": {
        "id": "-GogDqIPhUH9"
      }
    },
    {
      "cell_type": "code",
      "source": [
        "a = \"1\"\n",
        "b = 5\n",
        "print(int(a)+b)"
      ],
      "metadata": {
        "colab": {
          "base_uri": "https://localhost:8080/"
        },
        "id": "QkuVyHqSha5L",
        "outputId": "1cb0c95a-e10a-41ca-cfd6-b9260a8a09f7"
      },
      "execution_count": null,
      "outputs": [
        {
          "output_type": "stream",
          "name": "stdout",
          "text": [
            "6\n"
          ]
        }
      ]
    },
    {
      "cell_type": "markdown",
      "source": [
        "## Operators\n",
        "\n",
        "`Python` offers the usual operators such as `+,-,/,*,=,>,<,==,!=,&,|`, (sum, difference, divide, product, assignment, greater than, less than, equal - comparison,not equal, and, or, respectively).\n",
        "Additionally, there are `%,// and **` (modulo, floor division and 'to the power'). Note a few specifics:"
      ],
      "metadata": {
        "id": "Gq435aV8h1-T"
      }
    },
    {
      "cell_type": "code",
      "source": [
        "print(3/4)\n",
        "print(3.0 / 4.0)\n",
        "print(3%4)\n",
        "print(3//4)\n",
        "print(3**4)"
      ],
      "metadata": {
        "colab": {
          "base_uri": "https://localhost:8080/"
        },
        "id": "gbTVWlUoiETC",
        "outputId": "67b1dddb-64f2-44a7-d37d-f2303729bc15"
      },
      "execution_count": null,
      "outputs": [
        {
          "output_type": "stream",
          "name": "stdout",
          "text": [
            "0.75\n",
            "0.75\n",
            "3\n",
            "0\n",
            "81\n"
          ]
        }
      ]
    },
    {
      "cell_type": "markdown",
      "source": [
        ">Note the behavior of / when applied to integers! This is similar to the behavior of other strongly typed languages such as C/C++. The result of the integer division is the same as the floor division //. If you want the floating point result, the arguments to / must be floats as well (or appropriately typecast)."
      ],
      "metadata": {
        "id": "3atKc0m6ismV"
      }
    },
    {
      "cell_type": "code",
      "source": [
        "a = 3\n",
        "b = 4\n",
        "print(a/b)\n",
        "print(float(a)/float(b))"
      ],
      "metadata": {
        "colab": {
          "base_uri": "https://localhost:8080/"
        },
        "id": "2uu1802qicWa",
        "outputId": "222a7982-5691-417d-e5fb-4c0b0322cb7e"
      },
      "execution_count": null,
      "outputs": [
        {
          "output_type": "stream",
          "name": "stdout",
          "text": [
            "0.75\n",
            "0.75\n"
          ]
        }
      ]
    },
    {
      "cell_type": "markdown",
      "source": [
        "## Iterators\n",
        "`Python` has the usual iterators, `while, for`, and some other constructions that will be addressed later. Here are examples of each:"
      ],
      "metadata": {
        "id": "4h1Df907kqGT"
      }
    },
    {
      "cell_type": "code",
      "source": [
        "# example of for loop\n",
        "for i in range(1,10):\n",
        "     print(i)\n",
        "     \n"
      ],
      "metadata": {
        "colab": {
          "base_uri": "https://localhost:8080/"
        },
        "id": "njoloNuikwiz",
        "outputId": "743ee828-2f7f-4628-ee59-8fe39cf77b30"
      },
      "execution_count": null,
      "outputs": [
        {
          "output_type": "stream",
          "name": "stdout",
          "text": [
            "1\n",
            "2\n",
            "3\n",
            "4\n",
            "5\n",
            "6\n",
            "7\n",
            "8\n",
            "9\n"
          ]
        }
      ]
    },
    {
      "cell_type": "markdown",
      "source": [
        ">The most important thing to note above is that the range function gives us values up to, but not including, the upper limit.\n",
        "\n"
      ],
      "metadata": {
        "id": "tsacsNEHk9KJ"
      }
    },
    {
      "cell_type": "code",
      "source": [
        "# example of while loop\n",
        "i = 1\n",
        "while i < 10:\n",
        "    print(i)\n",
        "    i+=1"
      ],
      "metadata": {
        "id": "MT00fTRVk8XQ"
      },
      "execution_count": null,
      "outputs": []
    },
    {
      "cell_type": "markdown",
      "source": [
        "## Conditional Statements"
      ],
      "metadata": {
        "id": "98oaLON3lQGu"
      }
    },
    {
      "cell_type": "code",
      "source": [
        "a = 20\n",
        "if a >= 22:\n",
        "   print(\"if\")\n",
        "elif a >= 21:\n",
        "    print(\"elif\")\n",
        "else:\n",
        "    print(\"else\")\n",
        "     "
      ],
      "metadata": {
        "id": "lZJL-BdalneN"
      },
      "execution_count": null,
      "outputs": []
    },
    {
      "cell_type": "markdown",
      "source": [
        ">Again, nothing remarkable here, just need to learn the syntax. Here, we should also mention spacing. Python is picky about indentation - you must start a newline after each conditional statemen (it is the same for the iterators above) and indent the same number of spaces for every statement within the scope of that condition."
      ],
      "metadata": {
        "id": "OrnPxWhDlsZ3"
      }
    },
    {
      "cell_type": "markdown",
      "source": [
        "## Exceptions in `Python`\n",
        "Python has another type of conditional expression that is very useful. Suppose your program is processing user input or data from a file. You don't always know for sure what you are getting in that case, and this can lead to problems. The `try/except` conditional can solve them!"
      ],
      "metadata": {
        "id": "2p3Iu4Nul6gu"
      }
    },
    {
      "cell_type": "code",
      "source": [
        "a = \"1\"\n",
        "\n",
        "try:\n",
        "  b = a + 2 \n",
        "except:\n",
        "  print(a, \" is not a number\") \n"
      ],
      "metadata": {
        "colab": {
          "base_uri": "https://localhost:8080/"
        },
        "id": "p357CyERmCIR",
        "outputId": "81c80a58-fc62-4b79-f509-532e8a740767"
      },
      "execution_count": null,
      "outputs": [
        {
          "output_type": "stream",
          "name": "stdout",
          "text": [
            "1  is not a number\n"
          ]
        }
      ]
    },
    {
      "cell_type": "markdown",
      "source": [
        "## Functions\n",
        "\n",
        "We can write repeated process in the form of user defined functions. Syntax of `function` in `Python` is:\n",
        "\n",
        "```\n",
        "def <function name>(arguments):\n",
        "  function body\n",
        "```\n",
        ">**Example:** `Python` function to calculate division.  \n"
      ],
      "metadata": {
        "id": "K1VshCBSmOoc"
      }
    },
    {
      "cell_type": "code",
      "source": [
        "# function definition\n",
        "def Division(a, b):\n",
        "    print(a/b)"
      ],
      "metadata": {
        "id": "AE0HXlcJmvT9"
      },
      "execution_count": null,
      "outputs": []
    },
    {
      "cell_type": "code",
      "source": [
        "# calling the function\n",
        "\n",
        "Division(1,9)"
      ],
      "metadata": {
        "colab": {
          "base_uri": "https://localhost:8080/"
        },
        "id": "oeeQLU-3m2Sp",
        "outputId": "10792eb3-0617-4571-8d7a-eac9eae08fa5"
      },
      "execution_count": null,
      "outputs": [
        {
          "output_type": "stream",
          "name": "stdout",
          "text": [
            "0.1111111111111111\n"
          ]
        }
      ]
    },
    {
      "cell_type": "code",
      "source": [
        "Division(0.5,8)"
      ],
      "metadata": {
        "colab": {
          "base_uri": "https://localhost:8080/"
        },
        "id": "RRAn8XmvnE9L",
        "outputId": "2f973d81-ea18-42eb-bfc0-1dfae71f98ee"
      },
      "execution_count": null,
      "outputs": [
        {
          "output_type": "stream",
          "name": "stdout",
          "text": [
            "0.0625\n"
          ]
        }
      ]
    },
    {
      "cell_type": "markdown",
      "source": [
        "### Modified version with `try-exception` options"
      ],
      "metadata": {
        "id": "e489gz8eneRI"
      }
    },
    {
      "cell_type": "code",
      "source": [
        "def Division(a, b):\n",
        "    try:\n",
        "        print(a/b)\n",
        "    except:\n",
        "        if b == 0:\n",
        "           print(\"cannot divide by zero\")\n",
        "        else:\n",
        "           print(float(a)/float(b))\n"
      ],
      "metadata": {
        "id": "oTya5sd-nmq5"
      },
      "execution_count": null,
      "outputs": []
    },
    {
      "cell_type": "code",
      "source": [
        "Division(2,\"2\")\n",
        "Division(2,0)"
      ],
      "metadata": {
        "colab": {
          "base_uri": "https://localhost:8080/"
        },
        "id": "pHGaIZXXnnn5",
        "outputId": "82373e41-0762-46e4-d0a5-966c8905e979"
      },
      "execution_count": null,
      "outputs": [
        {
          "output_type": "stream",
          "name": "stdout",
          "text": [
            "1.0\n",
            "cannot divide by zero\n"
          ]
        }
      ]
    },
    {
      "cell_type": "markdown",
      "source": [
        "## Strings and String Handling\n",
        "One of the most important features of `Python` is its powerful and easy handling of strings. Defining strings is simple enough in most languages. But in `Python`, it is easy to search and replace, convert cases, concatenate, or access elements. "
      ],
      "metadata": {
        "id": "NdJoWDlaoGva"
      }
    },
    {
      "cell_type": "code",
      "source": [
        "a = \"A string of characters, with newline \\n CAPITALS, etc.\"\n",
        "print(a)\n",
        "b=5.0\n",
        "newstring = a + \"\\n We can format strings for printing %.2f\"\n",
        "print(newstring %b)"
      ],
      "metadata": {
        "colab": {
          "base_uri": "https://localhost:8080/"
        },
        "id": "2gi7Z86hoD-A",
        "outputId": "d5e7356e-742e-4a15-b75d-70063f8a3d3f"
      },
      "execution_count": null,
      "outputs": [
        {
          "output_type": "stream",
          "name": "stdout",
          "text": [
            "A string of characters, with newline \n",
            " CAPITALS, etc.\n",
            "A string of characters, with newline \n",
            " CAPITALS, etc.\n",
            " We can format strings for printing 5.00\n"
          ]
        }
      ]
    },
    {
      "cell_type": "code",
      "source": [
        "a=4.5\n",
        "b=6.7\n",
        "sum=a+b\n",
        "print((\"Sum of {} and {} is {}\").format(a,b, sum))"
      ],
      "metadata": {
        "colab": {
          "base_uri": "https://localhost:8080/"
        },
        "id": "iTTuj25qoqMb",
        "outputId": "8c323f28-5df7-4262-88ee-01a353d963eb"
      },
      "execution_count": null,
      "outputs": [
        {
          "output_type": "stream",
          "name": "stdout",
          "text": [
            "Sum of 4.5 and 6.7 is 11.2\n"
          ]
        }
      ]
    },
    {
      "cell_type": "code",
      "source": [
        "# slicing operation on strings\n",
        "a = \"ABC DEFG\"\n",
        "print(a[1:3])\n",
        "print(a[0:5])"
      ],
      "metadata": {
        "colab": {
          "base_uri": "https://localhost:8080/"
        },
        "id": "wsc-yoM0pZsD",
        "outputId": "e34e4696-4b43-4274-80f9-4efb7305aaf7"
      },
      "execution_count": null,
      "outputs": [
        {
          "output_type": "stream",
          "name": "stdout",
          "text": [
            "BC\n",
            "ABC D\n"
          ]
        }
      ]
    },
    {
      "cell_type": "code",
      "source": [
        "# some string operation examples\n",
        "\n",
        "a = \"ABC defg\"\n",
        "print(a.lower())\n",
        "print(a.upper())\n",
        "print(a.find('d'))\n",
        "print(a.replace('de','a'))\n",
        "print(a)\n",
        "b = a.replace('def','aaa')\n",
        "print(b)\n",
        "b = b.replace('a','c')\n",
        "print(b)\n",
        "b.count('c')\n"
      ],
      "metadata": {
        "colab": {
          "base_uri": "https://localhost:8080/"
        },
        "id": "WoguXrVZpnqy",
        "outputId": "38e381db-2e5c-4410-872a-f1d11886a567"
      },
      "execution_count": null,
      "outputs": [
        {
          "output_type": "stream",
          "name": "stdout",
          "text": [
            "abc defg\n",
            "ABC DEFG\n",
            "4\n",
            "ABC afg\n",
            "ABC defg\n",
            "ABC aaag\n",
            "ABC cccg\n"
          ]
        },
        {
          "output_type": "execute_result",
          "data": {
            "text/plain": [
              "3"
            ]
          },
          "metadata": {},
          "execution_count": 23
        }
      ]
    },
    {
      "cell_type": "markdown",
      "source": [
        "## String traversal in `Python`\n",
        "\n",
        "One can use a `for loop`, `range` in `Python`, slicing operator, and a few more methods to traverse the characters in a string.\n",
        "\n",
        "### Using for loop to traverse a string\n",
        "\n",
        "It is the most prominent and straightforward technique to iterate strings. Follow the below sample code:"
      ],
      "metadata": {
        "id": "egSIzb9DyQw5"
      }
    },
    {
      "cell_type": "code",
      "source": [
        "## code for printing letters in a string\n",
        "\n",
        "\"\"\"\n",
        "Python Program:\n",
        " Using for loop to iterate over a string in Python\n",
        "\"\"\"\n",
        "string_to_iterate = \"Hands-on Workshop in Python\"\n",
        "#for char in string_to_iterate:\n",
        "  # print(char)"
      ],
      "metadata": {
        "id": "uiTJSUgKys5Z"
      },
      "execution_count": null,
      "outputs": []
    },
    {
      "cell_type": "markdown",
      "source": [
        "### Python range to iterate over a string\n",
        "Another quite simple way to traverse the string is by using `Python` `range` function. This method lets us access string elements using the index.\n",
        "\n",
        "Go through the sample code given below:"
      ],
      "metadata": {
        "id": "oboQ3WjVzIo3"
      }
    },
    {
      "cell_type": "code",
      "source": [
        "\"\"\"\n",
        "Python Program:\n",
        " Using range() to iterate over a string in Python\n",
        "\"\"\"\n",
        "string_to_iterate = \"Statistical Modelling Using Python\"\n",
        "#for char_index in range(len(string_to_iterate)):\n",
        "#   print(string_to_iterate[char_index])"
      ],
      "metadata": {
        "id": "LaqgaUgvzN16"
      },
      "execution_count": null,
      "outputs": []
    },
    {
      "cell_type": "markdown",
      "source": [
        "### Slice operator to iterate strings partially\n",
        "You can traverse a string as a substring by using the `Python` slice operator (`[]`). It cuts off a substring from the original string and thus allows to iterate over it partially.\n",
        "\n",
        "The `[]` operator has the following syntax:\n",
        "\n",
        "```\n",
        "# Slicing Operator\n",
        "string [starting index : ending index : step value]\n",
        "```\n",
        "\n",
        "To use this method, provide the starting and ending indices along with a step value and then traverse the string. Below is the example code that iterates over the first six letters of a string.\n"
      ],
      "metadata": {
        "id": "yctQCvYKzqh3"
      }
    },
    {
      "cell_type": "code",
      "source": [
        "\"\"\"\n",
        "Python Program:\n",
        " Using slice [] operator to iterate over a string partially\n",
        "\"\"\"\n",
        "string_to_iterate = \"Python for Data Science\"\n",
        "#for char in string_to_iterate[0 : 6 : 1]:\n",
        "#   print(char)"
      ],
      "metadata": {
        "colab": {
          "base_uri": "https://localhost:8080/"
        },
        "id": "QFUk9wq0z153",
        "outputId": "0aeadfea-f0e1-403c-991e-cc47e3e87cb5"
      },
      "execution_count": null,
      "outputs": [
        {
          "output_type": "stream",
          "name": "stdout",
          "text": [
            "P\n",
            "y\n",
            "t\n",
            "h\n",
            "o\n",
            "n\n"
          ]
        }
      ]
    },
    {
      "cell_type": "markdown",
      "source": [
        ">**Task:** Use the slice operator to iterate over a string \"Python_Data_Science\" but leaving every alternate character."
      ],
      "metadata": {
        "id": "WWYHw7eP0WIn"
      }
    },
    {
      "cell_type": "code",
      "source": [
        "\"\"\"\n",
        "Python Program:\n",
        " Using slice [] operator to iterate over a specific parts of a string\n",
        "\"\"\"\n",
        "string_to_iterate = \"Python_for_Data_Science\"\n",
        "for char in string_to_iterate[ :  : 2]:\n",
        "   print(char)"
      ],
      "metadata": {
        "colab": {
          "base_uri": "https://localhost:8080/"
        },
        "id": "cOK4rC2t0ikd",
        "outputId": "4499337c-a1bf-4cdd-c422-c6ef5fd4bcf5"
      },
      "execution_count": null,
      "outputs": [
        {
          "output_type": "stream",
          "name": "stdout",
          "text": [
            "P\n",
            "t\n",
            "o\n",
            "_\n",
            "o\n",
            "_\n",
            "a\n",
            "a\n",
            "S\n",
            "i\n",
            "n\n",
            "e\n"
          ]
        }
      ]
    },
    {
      "cell_type": "markdown",
      "source": [
        "### Traverse string backward using slice operator\n",
        "If you pass a -ve step value and skipping the starting as well as ending indices, then you can iterate in the backward direction. Go through the given code sample."
      ],
      "metadata": {
        "id": "bQc6PpkA0uAC"
      }
    },
    {
      "cell_type": "code",
      "source": [
        "\"\"\"\n",
        "Python Program:\n",
        " Using slice [] operator to iterate string backward\n",
        "\"\"\"\n",
        "string_to_iterate = \"Computational Mathematics\"\n",
        "for char in string_to_iterate[ :  : -1]:\n",
        "   print(char)"
      ],
      "metadata": {
        "id": "cveGW4UV0ykj"
      },
      "execution_count": null,
      "outputs": []
    },
    {
      "cell_type": "markdown",
      "source": [
        "### Using indexing to iterate strings backward\n",
        "Slice operator first generates a reversed string, and then we use the for loop to traverse it. Instead of doing it, we can use the indexing to iterate strings backward."
      ],
      "metadata": {
        "id": "Cl-a1Th51BEY"
      }
    },
    {
      "cell_type": "code",
      "source": [
        "\"\"\"\n",
        "Python Program:\n",
        " Using indexing to iterate string backward\n",
        "\"\"\"\n",
        "string_to_iterate = \"Explainable Machine Learning\"\n",
        "char_index = len(string_to_iterate) - 1\n",
        "while char_index >= 0:\n",
        "   print(string_to_iterate[char_index])\n",
        "   char_index -= 1"
      ],
      "metadata": {
        "id": "vtq36sl51Ck4"
      },
      "execution_count": null,
      "outputs": []
    },
    {
      "cell_type": "markdown",
      "source": [
        ">Alternate Method"
      ],
      "metadata": {
        "id": "EhFJ-L6v1Vlz"
      }
    },
    {
      "cell_type": "code",
      "source": [
        "\"\"\"\n",
        "Python Program:\n",
        " Using -ve index to iterate string backward\n",
        "\"\"\"\n",
        "string_to_iterate = \"Learn Python\"\n",
        "char_index = 1\n",
        "while char_index <= len(string_to_iterate):\n",
        "   print(string_to_iterate[-char_index])\n",
        "   char_index += 1"
      ],
      "metadata": {
        "id": "iiQWZgPo1bSN"
      },
      "execution_count": null,
      "outputs": []
    },
    {
      "cell_type": "markdown",
      "source": [
        "## Derived datatypes in `Python`\n",
        "\n",
        "> `Lists,set,Tuples, Dictionaries`"
      ],
      "metadata": {
        "id": "upQuLi6up1E3"
      }
    },
    {
      "cell_type": "markdown",
      "source": [
        "### 1. Lists\n",
        "Lists are exactly as the name implies. They are lists of objects. The objects can be any data type (including lists), and it is allowed to mix data types. In this way they are much more flexible than arrays. It is possible to `append, delete, insert` and `count` elements and to `sort`, `reverse`, etc.\n",
        "\n",
        ">Example"
      ],
      "metadata": {
        "id": "Lcveh_A4qDTk"
      }
    },
    {
      "cell_type": "code",
      "source": [
        "a_list = [1,2,3,\"this is a string\",5.3]\n",
        "b_list = [\"A\",\"B\",\"F\",\"G\",\"d\",\"x\",\"c\",a_list,3]\n",
        "print(b_list)\n",
        "print(b_list[7:9])"
      ],
      "metadata": {
        "colab": {
          "base_uri": "https://localhost:8080/"
        },
        "id": "kCE8lza-p_hM",
        "outputId": "01bddddd-fba8-4639-bffd-f6ed6d321f6a"
      },
      "execution_count": null,
      "outputs": [
        {
          "output_type": "stream",
          "name": "stdout",
          "text": [
            "['A', 'B', 'F', 'G', 'd', 'x', 'c', [1, 2, 3, 'this is a string', 5.3], 3]\n",
            "[[1, 2, 3, 'this is a string', 5.3], 3]\n"
          ]
        }
      ]
    },
    {
      "cell_type": "code",
      "source": [
        "a = [1,2,3,4,5,6,7,3]\n",
        "temp=a.copy()# create a copy of a and store with name temp\n",
        "a.insert(0,0)\n",
        "print(a)\n",
        "a.append(8)\n",
        "print(a)\n",
        "a.reverse()\n",
        "print(a)\n",
        "a.sort()\n",
        "print(a)\n",
        "a.pop()\n",
        "print(a)\n",
        "a.remove(3)\n",
        "print(a)\n",
        "a.remove(a[4])# same as a.remove(4)\n",
        "print(a)"
      ],
      "metadata": {
        "colab": {
          "base_uri": "https://localhost:8080/"
        },
        "id": "ek4ospZpqzE1",
        "outputId": "4099ad4e-4ee6-45c3-9228-586239fd4f1a"
      },
      "execution_count": null,
      "outputs": [
        {
          "output_type": "stream",
          "name": "stdout",
          "text": [
            "[0, 1, 2, 3, 4, 5, 6, 7, 3]\n",
            "[0, 1, 2, 3, 4, 5, 6, 7, 3, 8]\n",
            "[8, 3, 7, 6, 5, 4, 3, 2, 1, 0]\n",
            "[0, 1, 2, 3, 3, 4, 5, 6, 7, 8]\n",
            "[0, 1, 2, 3, 3, 4, 5, 6, 7]\n",
            "[0, 1, 2, 3, 4, 5, 6, 7]\n",
            "[0, 1, 2, 3, 5, 6, 7]\n"
          ]
        }
      ]
    },
    {
      "cell_type": "code",
      "source": [
        "temp"
      ],
      "metadata": {
        "colab": {
          "base_uri": "https://localhost:8080/"
        },
        "id": "TZdiqAi7JhSn",
        "outputId": "0cacc68d-3689-41d1-f30c-8bef09778b8d"
      },
      "execution_count": null,
      "outputs": [
        {
          "output_type": "execute_result",
          "data": {
            "text/plain": [
              "[1, 2, 3, 4, 5, 6, 7, 3]"
            ]
          },
          "metadata": {},
          "execution_count": 6
        }
      ]
    },
    {
      "cell_type": "markdown",
      "source": [
        "**list comprehensions:** Lists can be constructed using `for` and some conditional statements like $\\lambda-$ functions. These are called, 'list comprehensions'. For example:\n",
        "\n"
      ],
      "metadata": {
        "id": "wntTA-dzrF63"
      }
    },
    {
      "cell_type": "code",
      "source": [
        "even_numbers = [x for x in range(100) if x % 2 == 0]\n",
        "print(even_numbers)\n"
      ],
      "metadata": {
        "colab": {
          "base_uri": "https://localhost:8080/"
        },
        "id": "ap4g7yCVrElg",
        "outputId": "8654625f-601e-4115-ce3b-04e36a7b25cb"
      },
      "execution_count": null,
      "outputs": [
        {
          "output_type": "stream",
          "name": "stdout",
          "text": [
            "[0, 2, 4, 6, 8, 10, 12, 14, 16, 18, 20, 22, 24, 26, 28, 30, 32, 34, 36, 38, 40, 42, 44, 46, 48, 50, 52, 54, 56, 58, 60, 62, 64, 66, 68, 70, 72, 74, 76, 78, 80, 82, 84, 86, 88, 90, 92, 94, 96, 98]\n"
          ]
        }
      ]
    },
    {
      "cell_type": "markdown",
      "source": [
        ">List comprehensions can work on strings as well:\n",
        "\n",
        "1. create a list of letters from the sentence `Pyworks 1.0 will helps me learn Python`"
      ],
      "metadata": {
        "id": "s2pD7mtGre3k"
      }
    },
    {
      "cell_type": "code",
      "source": [
        "first_sentence = \"Pyworks 1.0 will help me learn Python.\"\n",
        "characters = [x for x in first_sentence]\n",
        "print(characters)"
      ],
      "metadata": {
        "colab": {
          "base_uri": "https://localhost:8080/"
        },
        "id": "PWB6eSGCrgc9",
        "outputId": "63cc1b1c-ba7a-4650-8cda-9c365646c0a0"
      },
      "execution_count": null,
      "outputs": [
        {
          "output_type": "stream",
          "name": "stdout",
          "text": [
            "['P', 'y', 'w', 'o', 'r', 'k', 's', ' ', '1', '.', '0', ' ', 'w', 'i', 'l', 'l', ' ', 'h', 'e', 'l', 'p', ' ', 'm', 'e', ' ', 'l', 'e', 'a', 'r', 'n', ' ', 'P', 'y', 't', 'h', 'o', 'n', '.']\n"
          ]
        }
      ]
    },
    {
      "cell_type": "markdown",
      "source": [
        ">**Map function:** Another similar feature is called `map`. Map applies a function to a list. The syntax is\n",
        "```\n",
        "map(aFunction, aSequence)\n",
        "```\n",
        "\n",
        "Consider the following examples:"
      ],
      "metadata": {
        "id": "n9GsdwVcs5he"
      }
    },
    {
      "cell_type": "code",
      "source": [
        "def sqr(x): return x ** 2"
      ],
      "metadata": {
        "id": "Ty2bxP8UtGSG"
      },
      "execution_count": null,
      "outputs": []
    },
    {
      "cell_type": "code",
      "source": [
        "a = [2,3,4]\n",
        "b = [10,5,3]\n",
        "c = map(sqr,a)\n"
      ],
      "metadata": {
        "id": "OWZzNNmktJ0T"
      },
      "execution_count": null,
      "outputs": []
    },
    {
      "cell_type": "code",
      "source": [
        "print(list(c))"
      ],
      "metadata": {
        "colab": {
          "base_uri": "https://localhost:8080/"
        },
        "id": "_1ycLHtatmMS",
        "outputId": "f97d9200-3f8d-48ae-fc14-388aa67194fc"
      },
      "execution_count": null,
      "outputs": [
        {
          "output_type": "stream",
          "name": "stdout",
          "text": [
            "[4, 9, 16]\n"
          ]
        }
      ]
    },
    {
      "cell_type": "code",
      "source": [
        "d = map(pow,a,b)\n",
        "print(list(d))\n",
        "  "
      ],
      "metadata": {
        "colab": {
          "base_uri": "https://localhost:8080/"
        },
        "id": "YzbTCDcDuvHo",
        "outputId": "720f67c0-2ee8-4be7-ef2f-90c49d369837"
      },
      "execution_count": null,
      "outputs": [
        {
          "output_type": "stream",
          "name": "stdout",
          "text": [
            "[1024, 243, 64]\n"
          ]
        }
      ]
    },
    {
      "cell_type": "markdown",
      "source": [
        "### List traversal in `Python`\n",
        "\n",
        "Methods of Traversing Lists\n",
        "Here are the methods which one can refer to for traversing lists in Python:\n",
        "\n",
        "1. `Python` `range ()` method\n",
        "2. List Comprehension\n",
        "3. Python `enumerate()` method\n",
        "4. `Lambda` function\n",
        "5. By using a `for` Loop\n",
        "6. By using a `while` Loop"
      ],
      "metadata": {
        "id": "yK0xOlMq2gv_"
      }
    },
    {
      "cell_type": "code",
      "source": [
        "\n",
        "# Python3 code to iterate over a list\n",
        "\"\"\"\n",
        "using for loop for list traversal\n",
        "\"\"\"\n",
        "list1 = [2, 4, 6, 8, 10]\n",
        "\n",
        "# Using for loop\n",
        "\n",
        "for i in list1:\n",
        "  print(i)\n"
      ],
      "metadata": {
        "colab": {
          "base_uri": "https://localhost:8080/"
        },
        "id": "yNMzB9lC3nTV",
        "outputId": "3c4f393d-a91f-4787-a80e-14249adcccc3"
      },
      "execution_count": null,
      "outputs": [
        {
          "output_type": "stream",
          "name": "stdout",
          "text": [
            "2\n",
            "4\n",
            "6\n",
            "8\n",
            "10\n"
          ]
        }
      ]
    },
    {
      "cell_type": "code",
      "source": [
        "#Using For Loop and Range ()\n",
        "\n",
        "\"\"\"\n",
        "List traversal using range() with iterative function\n",
        "inefficient way\n",
        "\"\"\"\n",
        "\n",
        "# Python3 code to iterate over a list\n",
        "\n",
        "list2 = [2, 4, 6, 8, 10]\n",
        "\n",
        "# getting length of list\n",
        "\n",
        "length = len(list2)\n",
        "\n",
        "# Iterating the index\n",
        "\n",
        "# same as 'for i in range(len(list2))'\n",
        "\n",
        "for i in range(length):\n",
        "  print(list2[i])\n"
      ],
      "metadata": {
        "colab": {
          "base_uri": "https://localhost:8080/"
        },
        "id": "uWjXxDuU35im",
        "outputId": "adc14ed5-39ce-4b34-a80c-fe7530950d58"
      },
      "execution_count": null,
      "outputs": [
        {
          "output_type": "stream",
          "name": "stdout",
          "text": [
            "2\n",
            "4\n",
            "6\n",
            "8\n",
            "10\n"
          ]
        }
      ]
    },
    {
      "cell_type": "code",
      "source": [
        "\n",
        "# Python3 code to iterate over a list\n",
        "\n",
        "\"\"\"\n",
        "Traversing with while loop\n",
        "\"\"\"\n",
        "list2 = [2, 4, 6, 8, 10]\n",
        "# Getting length of list\n",
        "length = len(list2)\n",
        "i = 0\n",
        "# Iterating using while loop\n",
        "while i < length:\n",
        "  print(list2[i])\n",
        "  i += 1\n"
      ],
      "metadata": {
        "colab": {
          "base_uri": "https://localhost:8080/"
        },
        "id": "a5f1QaT04jM0",
        "outputId": "ae58429c-5277-4054-c4f6-4f33ab50749e"
      },
      "execution_count": null,
      "outputs": [
        {
          "output_type": "stream",
          "name": "stdout",
          "text": [
            "2\n",
            "4\n",
            "6\n",
            "8\n",
            "10\n"
          ]
        }
      ]
    },
    {
      "cell_type": "markdown",
      "source": [
        "### List comprehension\n",
        "This one is possibly the most concrete way."
      ],
      "metadata": {
        "id": "AuIauAOe4yfI"
      }
    },
    {
      "cell_type": "code",
      "source": [
        "#Using List Comprehension\n",
        "\n",
        "# Python3 code to iterate over a list\n",
        "list2 = [2, 4, 6, 8, 10]\n",
        "# Using list comprehension\n",
        "[i**2 for i in list2]"
      ],
      "metadata": {
        "colab": {
          "base_uri": "https://localhost:8080/"
        },
        "id": "zIY0wpvc42Hv",
        "outputId": "324bf0b5-965e-4160-e522-5438c507e743"
      },
      "execution_count": null,
      "outputs": [
        {
          "output_type": "execute_result",
          "data": {
            "text/plain": [
              "[4, 16, 36, 64, 100]"
            ]
          },
          "metadata": {},
          "execution_count": 16
        }
      ]
    },
    {
      "cell_type": "markdown",
      "source": [
        "### Using `enumerate()`\n",
        "If you wish to convert the list into an iterable list of tuples (or get the index on the basis of a condition check, for instance, in linear search, one might want to save the index of minimum element), one can use the `enumerate()` function."
      ],
      "metadata": {
        "id": "tCaqhEj45UyP"
      }
    },
    {
      "cell_type": "code",
      "source": [
        "# Python3 code to iterate over a list\n",
        "list2 = [1, 3, 5, 7, 9]\n",
        "# Using enumerate()\n",
        "print(\"Shows the key value pairs:\")\n",
        "print(\"**\"*12)\n",
        "for i, val in enumerate(list2):\n",
        "  print (i, \",\",val)\n"
      ],
      "metadata": {
        "colab": {
          "base_uri": "https://localhost:8080/"
        },
        "id": "9cg02dSd5b_m",
        "outputId": "c34422ab-879c-4edf-dfbd-ca389b8bd4ae"
      },
      "execution_count": null,
      "outputs": [
        {
          "output_type": "stream",
          "name": "stdout",
          "text": [
            "Shows the key value pairs:\n",
            "************************\n",
            "0 , 1\n",
            "1 , 3\n",
            "2 , 5\n",
            "3 , 7\n",
            "4 , 9\n"
          ]
        }
      ]
    },
    {
      "cell_type": "markdown",
      "source": [
        "###  Using `Python` `lambda` function\n",
        "\n",
        "`Python` `map ()` method accepts a function as a parameter and returns a list.\n",
        "\n",
        "The input function to the `map()` method gets called with every element of the iterable and it returns a new list with all the elements returned from the function, individually."
      ],
      "metadata": {
        "id": "GhRsU01x6CGa"
      }
    },
    {
      "cell_type": "code",
      "source": [
        "lst = [20, 40, 85, 93, 99, 85, 31]\n",
        "res = map(lambda x:x, lst)\n",
        "print(list(res))"
      ],
      "metadata": {
        "colab": {
          "base_uri": "https://localhost:8080/"
        },
        "id": "tQ7GTr0_6LsC",
        "outputId": "9230f32c-b079-4255-9473-549e6dea6d8c"
      },
      "execution_count": null,
      "outputs": [
        {
          "output_type": "stream",
          "name": "stdout",
          "text": [
            "[20, 40, 85, 93, 99, 85, 31]\n"
          ]
        }
      ]
    },
    {
      "cell_type": "markdown",
      "source": [
        ">**Task:** Write a program to check whether a given string is a palindrome or not?"
      ],
      "metadata": {
        "id": "cOZ0Um1rAduS"
      }
    },
    {
      "cell_type": "code",
      "source": [
        "# Program to check if a string is palindrome or not\n",
        "\n",
        "my_str = 'MalayalaM'\n",
        "\n",
        "# make it suitable for caseless comparison\n",
        "my_str = my_str.casefold()\n",
        "\n",
        "# reverse the string\n",
        "rev_str = reversed(my_str)\n",
        "\n",
        "# check if the string is equal to its reverse\n",
        "if list(my_str) == list(rev_str):\n",
        "   print(\"The string is a palindrome.\")\n",
        "else:\n",
        "   print(\"The string is not a palindrome.\")"
      ],
      "metadata": {
        "id": "V6H05-L0Akic",
        "outputId": "3c6aa115-f8a8-4ebf-c5f8-1482ded17d04",
        "colab": {
          "base_uri": "https://localhost:8080/"
        }
      },
      "execution_count": null,
      "outputs": [
        {
          "output_type": "stream",
          "name": "stdout",
          "text": [
            "The string is a palindrome.\n"
          ]
        }
      ]
    },
    {
      "cell_type": "markdown",
      "source": [
        "## Tuples\n",
        "Tuples are like lists with one very important difference. Tuples are *not changeable (mutable)*.\n",
        "\n",
        ">Syntax\n",
        "\n",
        "```\n",
        "tuple_name=(item1,item2,item3,...)\n",
        "```"
      ],
      "metadata": {
        "id": "dG0VhpG5vlPI"
      }
    },
    {
      "cell_type": "code",
      "source": [
        "a = (1,2,3,4)\n",
        "print(a)\n",
        "a[1] # will produce an error"
      ],
      "metadata": {
        "id": "8iS0ECLbvtVf",
        "colab": {
          "base_uri": "https://localhost:8080/"
        },
        "outputId": "2d364244-9ca0-4009-ff7f-59ee095d213d"
      },
      "execution_count": null,
      "outputs": [
        {
          "output_type": "stream",
          "name": "stdout",
          "text": [
            "(1, 2, 3, 4)\n"
          ]
        },
        {
          "output_type": "execute_result",
          "data": {
            "text/plain": [
              "2"
            ]
          },
          "metadata": {},
          "execution_count": 24
        }
      ]
    },
    {
      "cell_type": "code",
      "source": [
        "a = (1,\"string in a tuple\",5.3)\n",
        "b = (a,1,2,3)\n",
        "print(a)\n",
        "print(b)"
      ],
      "metadata": {
        "id": "zE88509rwCcX",
        "colab": {
          "base_uri": "https://localhost:8080/"
        },
        "outputId": "735f4b74-94e9-4f13-adb4-9f8d8c61a5bb"
      },
      "execution_count": null,
      "outputs": [
        {
          "output_type": "stream",
          "name": "stdout",
          "text": [
            "(1, 'string in a tuple', 5.3)\n",
            "((1, 'string in a tuple', 5.3), 1, 2, 3)\n"
          ]
        }
      ]
    },
    {
      "cell_type": "markdown",
      "source": [
        ">One other handy feature of tuples is known as 'tuple unpacking'. Essentially, this means we can assign the values of a tuple to a list of variable names, like so:"
      ],
      "metadata": {
        "id": "yw_61dmYwG_6"
      }
    },
    {
      "cell_type": "code",
      "source": [
        "my_pets = (\"Chestnut\", \"Tibbs\", \"Dash\", \"Bast\")\n",
        "(aussie,b_collie,indoor_cat,outdoor_cat) = my_pets\n",
        "print(aussie)\n",
        "cats=[indoor_cat,outdoor_cat]\n",
        "print(cats)\n",
        "type(cats)\n"
      ],
      "metadata": {
        "colab": {
          "base_uri": "https://localhost:8080/"
        },
        "id": "bmx3QwWnwJXH",
        "outputId": "9bf1ce7f-bc1a-49bd-e6d0-16fe841d8785"
      },
      "execution_count": null,
      "outputs": [
        {
          "output_type": "stream",
          "name": "stdout",
          "text": [
            "Chestnut\n",
            "['Dash', 'Bast']\n"
          ]
        },
        {
          "output_type": "execute_result",
          "data": {
            "text/plain": [
              "list"
            ]
          },
          "metadata": {},
          "execution_count": 53
        }
      ]
    },
    {
      "cell_type": "code",
      "source": [
        "type(my_pets)"
      ],
      "metadata": {
        "colab": {
          "base_uri": "https://localhost:8080/"
        },
        "id": "dh5aAay3wrra",
        "outputId": "0bcf27ca-7d95-4db1-e42c-a9c5b78ee438"
      },
      "execution_count": null,
      "outputs": [
        {
          "output_type": "execute_result",
          "data": {
            "text/plain": [
              "tuple"
            ]
          },
          "metadata": {},
          "execution_count": 50
        }
      ]
    },
    {
      "cell_type": "markdown",
      "source": [
        "### Sets\n",
        "Sets are unordered collections of unique elements. Intersections, unions and set differences are supported operations. They can be used to remove duplicates from a collection or to test for membership. For example:"
      ],
      "metadata": {
        "id": "ix72Q4HaxDZG"
      }
    },
    {
      "cell_type": "code",
      "source": [
        "A={1,2,3,4,6}\n",
        "print(A)\n",
        "B=set([1,2,4,5,2,3,5,2,4,5,6,7,1])\n",
        "print(B)"
      ],
      "metadata": {
        "colab": {
          "base_uri": "https://localhost:8080/"
        },
        "id": "Itzafo9XxKEB",
        "outputId": "ff61dba6-000b-4662-9908-6345700fd911"
      },
      "execution_count": null,
      "outputs": [
        {
          "output_type": "stream",
          "name": "stdout",
          "text": [
            "{1, 2, 3, 4, 6}\n",
            "{1, 2, 3, 4, 5, 6, 7}\n"
          ]
        }
      ]
    },
    {
      "cell_type": "code",
      "source": [
        "fruits = set([\"apples\",\"oranges\",\"grapes\",\"bananas\"])\n",
        "citrus = set([\"lemons\",\"oranges\",\"limes\",\"grapefruits\",\"clementines\"])\n",
        "citrus_in_fruits = fruits & citrus   #intersection\n",
        "print(citrus_in_fruits)\n",
        "diff_fruits = fruits - citrus        # set difference\n",
        "print(diff_fruits)\n",
        "diff_fruits_reverse = citrus - fruits  # set difference\n",
        "print(diff_fruits_reverse)\n",
        "citrus_or_fruits = citrus | fruits     # set union\n",
        "print(citrus_or_fruits)"
      ],
      "metadata": {
        "colab": {
          "base_uri": "https://localhost:8080/"
        },
        "id": "iZdXUq2mz4CO",
        "outputId": "eab69568-c675-456f-b1ee-1608392de78b"
      },
      "execution_count": null,
      "outputs": [
        {
          "output_type": "stream",
          "name": "stdout",
          "text": [
            "{'oranges'}\n",
            "{'apples', 'grapes', 'bananas'}\n",
            "{'limes', 'grapefruits', 'lemons', 'clementines'}\n",
            "{'oranges', 'bananas', 'grapes', 'limes', 'lemons', 'clementines', 'grapefruits', 'apples'}\n"
          ]
        }
      ]
    },
    {
      "cell_type": "code",
      "source": [
        "a_list = [\"a\", \"a\",\"a\", \"b\",1,2,3,\"d\",1]\n",
        "print(a_list)\n",
        "a_set = set(a_list)  # Convert list to set\n",
        "print(a_set)         # Creates a set with unique elements\n",
        "new_list = list(a_set) # Convert set to list\n",
        "print(new_list)        # Obtain a list with unique elements "
      ],
      "metadata": {
        "colab": {
          "base_uri": "https://localhost:8080/"
        },
        "id": "uMYTbP8P0Euu",
        "outputId": "cd2ffcb9-61fc-4e99-82dd-4ec0b204f558"
      },
      "execution_count": null,
      "outputs": [
        {
          "output_type": "stream",
          "name": "stdout",
          "text": [
            "['a', 'a', 'a', 'b', 1, 2, 3, 'd', 1]\n",
            "{1, 2, 3, 'd', 'a', 'b'}\n",
            "[1, 2, 3, 'd', 'a', 'b']\n"
          ]
        }
      ]
    },
    {
      "cell_type": "markdown",
      "source": [
        "## Dictionaries\n",
        "Dictionaries are unordered, keyed lists. Lists are ordered, and the index may be viewed as a key."
      ],
      "metadata": {
        "id": "IJ0eSMENxrDy"
      }
    },
    {
      "cell_type": "code",
      "source": [
        "a = {'anItem': \"A\", 'anotherItem': \"B\",'athirdItem':\"C\",'afourthItem':\"D\"} # dictionary example\n",
        "print(a)"
      ],
      "metadata": {
        "colab": {
          "base_uri": "https://localhost:8080/"
        },
        "id": "UeNWDKIxx11n",
        "outputId": "59117d12-9ff6-41f2-a9d9-ca1bb6e71e0e"
      },
      "execution_count": null,
      "outputs": [
        {
          "output_type": "stream",
          "name": "stdout",
          "text": [
            "{'anItem': 'A', 'anotherItem': 'B', 'athirdItem': 'C', 'afourthItem': 'D'}\n"
          ]
        }
      ]
    },
    {
      "cell_type": "code",
      "source": [
        "Features={'Interior':['wardrob','modular kitchen','corner sofa'],'Exterior':['sitout','balcony','fountain','garden']}"
      ],
      "metadata": {
        "id": "C8f4AHKVx8Ua"
      },
      "execution_count": null,
      "outputs": []
    },
    {
      "cell_type": "code",
      "source": [
        "print(Features['Interior'])"
      ],
      "metadata": {
        "colab": {
          "base_uri": "https://localhost:8080/"
        },
        "id": "XO8TYtpgzJnI",
        "outputId": "3700e7a2-4d85-4788-92c8-2680dd5f99e4"
      },
      "execution_count": null,
      "outputs": [
        {
          "output_type": "stream",
          "name": "stdout",
          "text": [
            "['wardrob', 'modular kitchen', 'corner sofa']\n"
          ]
        }
      ]
    },
    {
      "cell_type": "code",
      "source": [
        "for i in Features['Interior']: print(i)"
      ],
      "metadata": {
        "colab": {
          "base_uri": "https://localhost:8080/"
        },
        "id": "5mGlha69zVfI",
        "outputId": "e17a6f1b-241e-4b6d-b130-27565f14d101"
      },
      "execution_count": null,
      "outputs": [
        {
          "output_type": "stream",
          "name": "stdout",
          "text": [
            "wardrob\n",
            "modular kitchen\n",
            "corner sofa\n"
          ]
        }
      ]
    },
    {
      "cell_type": "markdown",
      "source": [
        "## Classes\n",
        "A class bundles data (known as attributes) and functions (known as methods) together. We access the attributes and mehtods of a class using the `.` notation. Since everything in `Python` is an object, we have already been using this attribute acccess - e.g. when we call `hello.upper()`, we are using the `upper` method of the instance `hello` of the string class."
      ],
      "metadata": {
        "id": "EgU9zscH05qa"
      }
    },
    {
      "cell_type": "markdown",
      "source": [
        "### Modules\n",
        "As the code base gets larger, it is convenient to organize them as `moudles` or `packages`. At the simplest level, modules can just be regular `python` files. We import functions in modules using one of the following import variants:\n",
        "```\n",
        "import numpy\n",
        "import numpy as np # using an alias\n",
        "import numpy.linalg as la # modules can have submodules\n",
        "from numpy import sin, cos, tan # bring trig functions into global namespace\n",
        "from numpy import * # frowned upon because it pollutes the namespace\n",
        "```"
      ],
      "metadata": {
        "id": "3b4YLcmd1J6n"
      }
    },
    {
      "cell_type": "markdown",
      "source": [
        "## File operations in `Python`\n",
        "\n",
        "A file is a container in computer storage devices used for storing data.\n",
        "\n",
        "When we want to read from or write to a file, we need to open it first. When we are done, it needs to be closed so that the resources that are tied with the file are freed.\n",
        "\n",
        "Hence, in Python, a file operation takes place in the following order:\n",
        "\n",
        "* Open a file\n",
        "* Read or write (perform operation)\n",
        "* Close the file"
      ],
      "metadata": {
        "id": "z65OjcMN9HN9"
      }
    },
    {
      "cell_type": "markdown",
      "source": [
        "### Opening Files in Python\n",
        "In `Python`, we use the `open()` method to open files.\n",
        "\n",
        "To demonstrate how we open files in Python, let's suppose we have a file named `test.txt` with the following content.\n",
        "\n",
        "```\n",
        "This a a secret file\n",
        "Do not try to open it\n",
        "\n",
        "```"
      ],
      "metadata": {
        "id": "GpodNjKu9PsK"
      }
    },
    {
      "cell_type": "code",
      "source": [
        "text_file = open(\"sample.txt\", \"w\")\n",
        "n = text_file.write('This a a secret file\\nDo not try to open it')\n",
        "text_file.close()"
      ],
      "metadata": {
        "id": "z0br71Hl-JiB"
      },
      "execution_count": null,
      "outputs": []
    },
    {
      "cell_type": "code",
      "source": [
        "# open and read a file\n",
        "\n",
        "# open a file\n",
        "file1 = open(\"sample.txt\", \"r\")\n",
        "\n",
        "# read the file\n",
        "read_content = file1.read()\n",
        "print(read_content)"
      ],
      "metadata": {
        "colab": {
          "base_uri": "https://localhost:8080/"
        },
        "id": "T0ESGkuF9O1l",
        "outputId": "bd2cfbaa-1e8f-442e-d732-459708bec44f"
      },
      "execution_count": null,
      "outputs": [
        {
          "output_type": "stream",
          "name": "stdout",
          "text": [
            "This a a secret file\n",
            "Do not try to open it\n"
          ]
        }
      ]
    },
    {
      "cell_type": "markdown",
      "source": [
        "### Closing Files in Python\n",
        "When we are done with performing operations on the file, we need to properly close the file.\n",
        "\n",
        "Closing a file will free up the resources that were tied with the file. It is done using the `close()` method in Python. For example,"
      ],
      "metadata": {
        "id": "RZveSELn--pr"
      }
    },
    {
      "cell_type": "code",
      "source": [
        "# open a file\n",
        "file1 = open(\"sample.txt\", \"r\")\n",
        "\n",
        "# read the file\n",
        "read_content = file1.read()\n",
        "print(read_content)\n",
        "\n",
        "# close the file\n",
        "file1.close()"
      ],
      "metadata": {
        "colab": {
          "base_uri": "https://localhost:8080/"
        },
        "id": "MQs5KgwB_CBG",
        "outputId": "3cead4b1-fecf-4bfe-f1d5-51d772e4037d"
      },
      "execution_count": null,
      "outputs": [
        {
          "output_type": "stream",
          "name": "stdout",
          "text": [
            "This a a secret file\n",
            "Do not try to open it\n"
          ]
        }
      ]
    },
    {
      "cell_type": "code",
      "source": [
        "# another example\n",
        "\n",
        "with open('test2.txt', 'w') as file2:\n",
        "\n",
        "    # write contents to the test2.txt file\n",
        "    file2.write('Programming is Fun.')\n",
        "    file2.write('Programiz for beginners')\n",
        "    file2.close()"
      ],
      "metadata": {
        "id": "NShIrO2p_XLm"
      },
      "execution_count": null,
      "outputs": []
    },
    {
      "cell_type": "markdown",
      "source": [
        "## Exercises\n",
        "\n",
        "1. Solve the FizzBuzz probelm\n",
        "\n",
        "\"Write a program that prints the numbers from 1 to 5. But for multiples of three print “Fizz” instead of the number and for the multiples of five print “Buzz”. For numbers which are multiples of both three and five print “FizzBuzz”."
      ],
      "metadata": {
        "id": "P-SnoOOJ1rFn"
      }
    },
    {
      "cell_type": "code",
      "source": [
        "for i in range(1,16):\n",
        "  if ((i%3==0 ) & (i%5==0)):\n",
        "    print(\"FizzBuzz\")\n",
        "  elif (i%3==0):\n",
        "    print(\"Fizz\")\n",
        "  elif(i%5==0):\n",
        "    print(\"Buzz\")\n",
        "  else:\n",
        "    print(i)\n",
        "    "
      ],
      "metadata": {
        "colab": {
          "base_uri": "https://localhost:8080/"
        },
        "id": "JYzPvzIU05CS",
        "outputId": "f49c352b-baf4-4a81-a193-07a27a741858"
      },
      "execution_count": null,
      "outputs": [
        {
          "output_type": "stream",
          "name": "stdout",
          "text": [
            "1\n",
            "2\n",
            "Fizz\n",
            "4\n",
            "Buzz\n",
            "Fizz\n",
            "7\n",
            "8\n",
            "Fizz\n",
            "Buzz\n",
            "11\n",
            "Fizz\n",
            "13\n",
            "14\n",
            "FizzBuzz\n"
          ]
        }
      ]
    },
    {
      "cell_type": "markdown",
      "source": [
        "2. Given x=3 and y=4, swap the values of x and y so that x=4 and y=3."
      ],
      "metadata": {
        "id": "jfk3ym704oux"
      }
    },
    {
      "cell_type": "code",
      "source": [
        "x=3\n",
        "y=4\n",
        "t=x\n",
        "x=y\n",
        "y=t\n",
        "print(x,y)\n"
      ],
      "metadata": {
        "colab": {
          "base_uri": "https://localhost:8080/"
        },
        "id": "0zk-GJSg4p4m",
        "outputId": "3fc6f56c-eeeb-4671-b7c6-3ca231d53b5b"
      },
      "execution_count": null,
      "outputs": [
        {
          "output_type": "stream",
          "name": "stdout",
          "text": [
            "4 3\n"
          ]
        }
      ]
    },
    {
      "cell_type": "markdown",
      "source": [
        "3.  Using a dictionary, write a program to calculate the number times each character occurs in the given string s. Ignore differneces in capitalization - i.e 'a' and 'A' should be treated as a single key. For example, we should get a count of 7 for 'a'."
      ],
      "metadata": {
        "id": "IxQVbBoM6mUO"
      }
    },
    {
      "cell_type": "code",
      "source": [
        "# initializing string\n",
        "test_str = \"Malayalam\"\n",
        "test_str=test_str.lower() \n",
        "# using set() + count() to get count\n",
        "# of each element in string\n",
        "res = {i: test_str.count(i) for i in set(test_str)}\n",
        " \n",
        "# printing result\n",
        "print((\"The count of all characters in {} is {}\").format(test_str,res))"
      ],
      "metadata": {
        "colab": {
          "base_uri": "https://localhost:8080/"
        },
        "id": "ZF9YiuhF6lMD",
        "outputId": "17157968-b97d-44d6-a9d9-45540c50866a"
      },
      "execution_count": null,
      "outputs": [
        {
          "output_type": "stream",
          "name": "stdout",
          "text": [
            "The count of all characters in malayalam is {'l': 2, 'y': 1, 'a': 4, 'm': 2}\n"
          ]
        }
      ]
    }
  ]
}